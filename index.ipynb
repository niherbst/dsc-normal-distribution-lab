{
 "cells": [
  {
   "cell_type": "markdown",
   "metadata": {},
   "source": [
    "# The Normal Distribution - Lab"
   ]
  },
  {
   "cell_type": "markdown",
   "metadata": {},
   "source": [
    "## Introduction\n",
    "\n",
    "In this lab, you'll learn how to generate random normal distributions in Python. You'll learn how to visualize a histogram and build a density function using the formula. \n",
    "\n",
    "## Objectives\n",
    "You will be able to:\n",
    "\n",
    "* Use `numpy` to generate a random normal distribution\n",
    "* Calculate the density function for normal distributions with a Python function\n",
    "* Plot and interpret density plots and comment on the shape of the plot"
   ]
  },
  {
   "cell_type": "markdown",
   "metadata": {},
   "source": [
    "## A quick refresher! \n",
    "\n",
    "Here's the formula for the normal distribution density function once more:\n",
    "\n",
    "$$ \\large N(x) = \\dfrac{1}{\\sigma \\sqrt {2\\pi }}e^{-\\dfrac{(x-\\mu)^2}{2\\sigma^2}}$$\n",
    "\n",
    "Here, \n",
    "- $\\mu$ is the mean\n",
    "- $\\sigma$ is the standard deviation\n",
    "- $\\pi \\approx 3.14159 $ \n",
    "- $ e \\approx 2.71828 $\n"
   ]
  },
  {
   "cell_type": "markdown",
   "metadata": {},
   "source": [
    "## First generate a normal distribution containing 5000 values with $\\mu=14$ and $\\sigma = 2.8$"
   ]
  },
  {
   "cell_type": "code",
   "execution_count": 6,
   "metadata": {},
   "outputs": [
    {
     "data": {
      "image/png": "[encoded data removed]",
      "text/plain": [
       "<Figure size 360x360 with 1 Axes>"
      ]
     },
     "metadata": {
      "needs_background": "light"
     },
     "output_type": "display_data"
    }
   ],
   "source": [
    "# Generate a random normal variable with given parameters , n=5000\n",
    "import numpy as np\n",
    "import seaborn as sns\n",
    "import matplotlib.pyplot as plt \n",
    "\n",
    "mu, sigma = 14, 2.8\n",
    "n = 5000\n",
    "s = np.random.normal(mu, sigma, n)\n",
    "sns.displot(s);"
   ]
  },
  {
   "cell_type": "markdown",
   "metadata": {},
   "source": [
    "## Calculate a normalized histogram for this distribution in matplotlib, with bin size = 20\n",
    "\n",
    "Make sure to get the bin positions and counts for each of the obtained bins. You can use [official documentation](https://matplotlib.org/api/_as_gen/matplotlib.pyplot.hist.html) to view input and output options for `plt.hist()`"
   ]
  },
  {
   "cell_type": "code",
   "execution_count": 7,
   "metadata": {},
   "outputs": [
    {
     "data": {
      "text/plain": [
       "(array([  1.,   4.,  12.,  20.,  75., 167., 322., 430., 678., 716., 783.,\n",
       "        682., 483., 334., 167.,  67.,  38.,  14.,   6.,   1.]),\n",
       " array([ 3.12679608,  4.20812675,  5.28945741,  6.37078808,  7.45211875,\n",
       "         8.53344942,  9.61478008, 10.69611075, 11.77744142, 12.85877209,\n",
       "        13.94010275, 15.02143342, 16.10276409, 17.18409475, 18.26542542,\n",
       "        19.34675609, 20.42808676, 21.50941742, 22.59074809, 23.67207876,\n",
       "        24.75340943]),\n",
       " <BarContainer object of 20 artists>)"
      ]
     },
     "execution_count": 7,
     "metadata": {},
     "output_type": "execute_result"
    },
    {
     "data": {
      "image/png": "[encoded data removed]",
      "text/plain": [
       "<Figure size 432x288 with 1 Axes>"
      ]
     },
     "metadata": {
      "needs_background": "light"
     },
     "output_type": "display_data"
    }
   ],
   "source": [
    "# Calculate a histogram for above data distribution\n",
    "plt.hist(s, bins = 20)"
   ]
  },
  {
   "cell_type": "markdown",
   "metadata": {},
   "source": [
    "## Use the formula to calculate the density function with $\\mu$, $\\sigma$ and bin information obtained before"
   ]
  },
  {
   "cell_type": "code",
   "execution_count": 16,
   "metadata": {},
   "outputs": [
    {
     "data": {
      "text/plain": [
       "array([7.57162803e-05, 7.80217030e-05, 8.03925160e-05, 8.28304184e-05,\n",
       "       8.53371489e-05, 8.79144862e-05, 9.05642500e-05, 9.32883017e-05,\n",
       "       9.60885453e-05, 9.89669279e-05, 1.01925441e-04, 1.04966121e-04,\n",
       "       1.08091051e-04, 1.11302359e-04, 1.14602221e-04, 1.17992864e-04,\n",
       "       1.21476561e-04, 1.25055638e-04, 1.28732470e-04, 1.32509485e-04,\n",
       "       1.36389165e-04, 1.40374045e-04, 1.44466716e-04, 1.48669822e-04,\n",
       "       1.52986069e-04, 1.57418216e-04, 1.61969084e-04, 1.66641554e-04,\n",
       "       1.71438567e-04, 1.76363126e-04, 1.81418297e-04, 1.86607212e-04,\n",
       "       1.91933067e-04, 1.97399123e-04, 2.03008712e-04, 2.08765232e-04,\n",
       "       2.14672151e-04, 2.20733008e-04, 2.26951416e-04, 2.33331058e-04,\n",
       "       2.39875694e-04, 2.46589157e-04, 2.53475360e-04, 2.60538291e-04,\n",
       "       2.67782018e-04, 2.75210691e-04, 2.82828539e-04, 2.90639876e-04,\n",
       "       2.98649098e-04, 3.06860689e-04, 3.15279217e-04, 3.23909339e-04,\n",
       "       3.32755801e-04, 3.41823441e-04, 3.51117186e-04, 3.60642057e-04,\n",
       "       3.70403170e-04, 3.80405737e-04, 3.90655067e-04, 4.01156565e-04,\n",
       "       4.11915738e-04, 4.22938194e-04, 4.34229642e-04, 4.45795896e-04,\n",
       "       4.57642876e-04, 4.69776604e-04, 4.82203216e-04, 4.94928953e-04,\n",
       "       5.07960167e-04, 5.21303324e-04, 5.34965000e-04, 5.48951890e-04,\n",
       "       5.63270802e-04, 5.77928662e-04, 5.92932516e-04, 6.08289529e-04,\n",
       "       6.24006987e-04, 6.40092303e-04, 6.56553009e-04, 6.73396766e-04,\n",
       "       6.90631363e-04, 7.08264715e-04, 7.26304869e-04, 7.44760001e-04,\n",
       "       7.63638422e-04, 7.82948576e-04, 8.02699044e-04, 8.22898540e-04,\n",
       "       8.43555919e-04, 8.64680176e-04, 8.86280444e-04, 9.08366000e-04,\n",
       "       9.30946264e-04, 9.54030801e-04, 9.77629321e-04, 1.00175168e-03,\n",
       "       1.02640789e-03, 1.05160810e-03, 1.07736261e-03, 1.10368190e-03,\n",
       "       1.13057656e-03, 1.15805738e-03, 1.18613525e-03, 1.21482128e-03,\n",
       "       1.24412669e-03, 1.27406288e-03, 1.30464141e-03, 1.33587399e-03,\n",
       "       1.36777250e-03, 1.40034898e-03, 1.43361565e-03, 1.46758487e-03,\n",
       "       1.50226918e-03, 1.53768128e-03, 1.57383406e-03, 1.61074054e-03,\n",
       "       1.64841394e-03, 1.68686764e-03, 1.72611520e-03, 1.76617032e-03,\n",
       "       1.80704693e-03, 1.84875907e-03, 1.89132099e-03, 1.93474712e-03,\n",
       "       1.97905204e-03, 2.02425051e-03, 2.07035749e-03, 2.11738808e-03,\n",
       "       2.16535759e-03, 2.21428149e-03, 2.26417541e-03, 2.31505520e-03,\n",
       "       2.36693685e-03, 2.41983654e-03, 2.47377064e-03, 2.52875566e-03,\n",
       "       2.58480834e-03, 2.64194556e-03, 2.70018438e-03, 2.75954205e-03,\n",
       "       2.82003600e-03, 2.88168382e-03, 2.94450328e-03, 3.00851233e-03,\n",
       "       3.07372910e-03, 3.14017189e-03, 3.20785917e-03, 3.27680959e-03,\n",
       "       3.34704196e-03, 3.41857528e-03, 3.49142870e-03, 3.56562156e-03,\n",
       "       3.64117335e-03, 3.71810375e-03, 3.79643258e-03, 3.87617984e-03,\n",
       "       3.95736569e-03, 4.04001047e-03, 4.12413465e-03, 4.20975887e-03,\n",
       "       4.29690394e-03, 4.38559081e-03, 4.47584060e-03, 4.56767456e-03,\n",
       "       4.66111411e-03, 4.75618082e-03, 4.85289637e-03, 4.95128263e-03,\n",
       "       5.05136159e-03, 5.15315536e-03, 5.25668623e-03, 5.36197658e-03,\n",
       "       5.46904894e-03, 5.57792597e-03, 5.68863046e-03, 5.80118530e-03,\n",
       "       5.91561352e-03, 6.03193825e-03, 6.15018275e-03, 6.27037038e-03,\n",
       "       6.39252458e-03, 6.51666895e-03, 6.64282713e-03, 6.77102288e-03,\n",
       "       6.90128006e-03, 7.03362260e-03, 7.16807451e-03, 7.30465989e-03,\n",
       "       7.44340290e-03, 7.58432779e-03, 7.72745886e-03, 7.87282047e-03,\n",
       "       8.02043704e-03, 8.17033303e-03, 8.32253296e-03, 8.47706138e-03,\n",
       "       8.63394288e-03, 8.79320208e-03, 8.95486363e-03, 9.11895218e-03,\n",
       "       9.28549241e-03, 9.45450901e-03, 9.62602665e-03, 9.80007003e-03,\n",
       "       9.97666382e-03, 1.01558327e-02, 1.03376012e-02, 1.05219940e-02,\n",
       "       1.07090357e-02, 1.08987508e-02, 1.10911638e-02, 1.12862991e-02,\n",
       "       1.14841810e-02, 1.16848339e-02, 1.18882819e-02, 1.20945493e-02,\n",
       "       1.23036600e-02, 1.25156379e-02, 1.27305071e-02, 1.29482910e-02,\n",
       "       1.31690135e-02, 1.33926978e-02, 1.36193675e-02, 1.38490457e-02,\n",
       "       1.40817553e-02, 1.43175194e-02, 1.45563607e-02, 1.47983016e-02,\n",
       "       1.50433645e-02, 1.52915716e-02, 1.55429449e-02, 1.57975060e-02,\n",
       "       1.60552766e-02, 1.63162779e-02, 1.65805311e-02, 1.68480568e-02,\n",
       "       1.71188757e-02, 1.73930080e-02, 1.76704739e-02, 1.79512930e-02,\n",
       "       1.82354848e-02, 1.85230685e-02, 1.88140628e-02, 1.91084863e-02,\n",
       "       1.94063572e-02, 1.97076934e-02, 2.00125123e-02, 2.03208311e-02,\n",
       "       2.06326665e-02, 2.09480350e-02, 2.12669527e-02, 2.15894350e-02,\n",
       "       2.19154972e-02, 2.22451541e-02, 2.25784200e-02, 2.29153090e-02,\n",
       "       2.32558344e-02, 2.36000093e-02, 2.39478463e-02, 2.42993575e-02,\n",
       "       2.46545543e-02, 2.50134481e-02, 2.53760492e-02, 2.57423679e-02,\n",
       "       2.61124137e-02, 2.64861956e-02, 2.68637220e-02, 2.72450009e-02,\n",
       "       2.76300397e-02, 2.80188451e-02, 2.84114234e-02, 2.88077800e-02,\n",
       "       2.92079201e-02, 2.96118480e-02, 3.00195674e-02, 3.04310815e-02,\n",
       "       3.08463928e-02, 3.12655032e-02, 3.16884136e-02, 3.21151248e-02,\n",
       "       3.25456365e-02, 3.29799478e-02, 3.34180572e-02, 3.38599624e-02,\n",
       "       3.43056604e-02, 3.47551475e-02, 3.52084194e-02, 3.56654707e-02,\n",
       "       3.61262955e-02, 3.65908872e-02, 3.70592384e-02, 3.75313407e-02,\n",
       "       3.80071852e-02, 3.84867620e-02, 3.89700606e-02, 3.94570696e-02,\n",
       "       3.99477767e-02, 4.04421690e-02, 4.09402325e-02, 4.14419525e-02,\n",
       "       4.19473135e-02, 4.24562992e-02, 4.29688923e-02, 4.34850746e-02,\n",
       "       4.40048273e-02, 4.45281305e-02, 4.50549635e-02, 4.55853047e-02,\n",
       "       4.61191316e-02, 4.66564208e-02, 4.71971481e-02, 4.77412883e-02,\n",
       "       4.82888154e-02, 4.88397022e-02, 4.93939210e-02, 4.99514430e-02,\n",
       "       5.05122382e-02, 5.10762762e-02, 5.16435252e-02, 5.22139529e-02,\n",
       "       5.27875256e-02, 5.33642090e-02, 5.39439678e-02, 5.45267657e-02,\n",
       "       5.51125655e-02, 5.57013290e-02, 5.62930171e-02, 5.68875898e-02,\n",
       "       5.74850061e-02, 5.80852240e-02, 5.86882007e-02, 5.92938924e-02,\n",
       "       5.99022543e-02, 6.05132406e-02, 6.11268048e-02, 6.17428992e-02,\n",
       "       6.23614754e-02, 6.29824839e-02, 6.36058742e-02, 6.42315951e-02,\n",
       "       6.48595943e-02, 6.54898187e-02, 6.61222141e-02, 6.67567256e-02,\n",
       "       6.73932972e-02, 6.80318722e-02, 6.86723928e-02, 6.93148003e-02,\n",
       "       6.99590354e-02, 7.06050375e-02, 7.12527455e-02, 7.19020971e-02,\n",
       "       7.25530295e-02, 7.32054786e-02, 7.38593799e-02, 7.45146677e-02,\n",
       "       7.51712757e-02, 7.58291367e-02, 7.64881826e-02, 7.71483446e-02,\n",
       "       7.78095531e-02, 7.84717376e-02, 7.91348271e-02, 7.97987494e-02,\n",
       "       8.04634319e-02, 8.11288011e-02, 8.17947829e-02, 8.24613023e-02,\n",
       "       8.31282837e-02, 8.37956507e-02, 8.44633264e-02, 8.51312331e-02,\n",
       "       8.57992924e-02, 8.64674254e-02, 8.71355525e-02, 8.78035934e-02,\n",
       "       8.84714672e-02, 8.91390927e-02, 8.98063877e-02, 9.04732698e-02,\n",
       "       9.11396558e-02, 9.18054621e-02, 9.24706047e-02, 9.31349989e-02,\n",
       "       9.37985595e-02, 9.44612012e-02, 9.51228378e-02, 9.57833830e-02,\n",
       "       9.64427499e-02, 9.71008513e-02, 9.77575997e-02, 9.84129070e-02,\n",
       "       9.90666852e-02, 9.97188455e-02, 1.00369299e-01, 1.01017957e-01,\n",
       "       1.01664729e-01, 1.02309527e-01, 1.02952260e-01, 1.03592838e-01,\n",
       "       1.04231171e-01, 1.04867169e-01, 1.05500740e-01, 1.06131796e-01,\n",
       "       1.06760244e-01, 1.07385994e-01, 1.08008955e-01, 1.08629036e-01,\n",
       "       1.09246146e-01, 1.09860195e-01, 1.10471092e-01, 1.11078746e-01,\n",
       "       1.11683066e-01, 1.12283961e-01, 1.12881342e-01, 1.13475118e-01,\n",
       "       1.14065198e-01, 1.14651493e-01, 1.15233913e-01, 1.15812369e-01,\n",
       "       1.16386771e-01, 1.16957031e-01, 1.17523059e-01, 1.18084768e-01,\n",
       "       1.18642069e-01, 1.19194876e-01, 1.19743100e-01, 1.20286655e-01,\n",
       "       1.20825454e-01, 1.21359413e-01, 1.21888445e-01, 1.22412465e-01,\n",
       "       1.22931390e-01, 1.23445135e-01, 1.23953618e-01, 1.24456755e-01,\n",
       "       1.24954464e-01, 1.25446666e-01, 1.25933278e-01, 1.26414220e-01,\n",
       "       1.26889415e-01, 1.27358782e-01, 1.27822244e-01, 1.28279725e-01,\n",
       "       1.28731148e-01, 1.29176437e-01, 1.29615518e-01, 1.30048318e-01,\n",
       "       1.30474764e-01, 1.30894783e-01, 1.31308305e-01, 1.31715259e-01,\n",
       "       1.32115578e-01, 1.32509191e-01, 1.32896033e-01, 1.33276038e-01,\n",
       "       1.33649140e-01, 1.34015275e-01, 1.34374380e-01, 1.34726394e-01,\n",
       "       1.35071256e-01, 1.35408906e-01, 1.35739286e-01, 1.36062338e-01,\n",
       "       1.36378007e-01, 1.36686237e-01, 1.36986975e-01, 1.37280168e-01,\n",
       "       1.37565766e-01, 1.37843717e-01, 1.38113974e-01, 1.38376489e-01,\n",
       "       1.38631216e-01, 1.38878110e-01, 1.39117127e-01, 1.39348226e-01,\n",
       "       1.39571365e-01, 1.39786506e-01, 1.39993609e-01, 1.40192639e-01,\n",
       "       1.40383560e-01, 1.40566338e-01, 1.40740941e-01, 1.40907337e-01,\n",
       "       1.41065498e-01, 1.41215394e-01, 1.41357000e-01, 1.41490290e-01,\n",
       "       1.41615240e-01, 1.41731827e-01, 1.41840032e-01, 1.41939835e-01,\n",
       "       1.42031217e-01, 1.42114163e-01, 1.42188657e-01, 1.42254687e-01,\n",
       "       1.42312241e-01, 1.42361307e-01, 1.42401878e-01, 1.42433946e-01,\n",
       "       1.42457505e-01, 1.42472552e-01, 1.42479083e-01, 1.42477097e-01,\n",
       "       1.42466595e-01, 1.42447578e-01, 1.42420050e-01, 1.42384016e-01,\n",
       "       1.42339483e-01, 1.42286458e-01, 1.42224950e-01, 1.42154971e-01,\n",
       "       1.42076534e-01, 1.41989652e-01, 1.41894341e-01, 1.41790618e-01,\n",
       "       1.41678502e-01, 1.41558012e-01, 1.41429170e-01, 1.41291999e-01,\n",
       "       1.41146524e-01, 1.40992771e-01, 1.40830766e-01, 1.40660539e-01,\n",
       "       1.40482120e-01, 1.40295540e-01, 1.40100834e-01, 1.39898034e-01,\n",
       "       1.39687179e-01, 1.39468303e-01, 1.39241447e-01, 1.39006651e-01,\n",
       "       1.38763955e-01, 1.38513403e-01, 1.38255039e-01, 1.37988908e-01,\n",
       "       1.37715057e-01, 1.37433534e-01, 1.37144388e-01, 1.36847670e-01,\n",
       "       1.36543431e-01, 1.36231725e-01, 1.35912607e-01, 1.35586130e-01,\n",
       "       1.35252353e-01, 1.34911333e-01, 1.34563128e-01, 1.34207800e-01,\n",
       "       1.33845408e-01, 1.33476017e-01, 1.33099688e-01, 1.32716487e-01,\n",
       "       1.32326479e-01, 1.31929730e-01, 1.31526309e-01, 1.31116283e-01,\n",
       "       1.30699723e-01, 1.30276698e-01, 1.29847280e-01, 1.29411542e-01,\n",
       "       1.28969556e-01, 1.28521398e-01, 1.28067141e-01, 1.27606861e-01,\n",
       "       1.27140635e-01, 1.26668541e-01, 1.26190656e-01, 1.25707060e-01,\n",
       "       1.25217832e-01, 1.24723052e-01, 1.24222801e-01, 1.23717161e-01,\n",
       "       1.23206214e-01, 1.22690043e-01, 1.22168732e-01, 1.21642364e-01,\n",
       "       1.21111024e-01, 1.20574797e-01, 1.20033769e-01, 1.19488026e-01,\n",
       "       1.18937655e-01, 1.18382741e-01, 1.17823374e-01, 1.17259640e-01,\n",
       "       1.16691627e-01, 1.16119425e-01, 1.15543121e-01, 1.14962805e-01,\n",
       "       1.14378567e-01, 1.13790496e-01, 1.13198681e-01, 1.12603213e-01,\n",
       "       1.12004182e-01, 1.11401678e-01, 1.10795792e-01, 1.10186615e-01,\n",
       "       1.09574237e-01, 1.08958749e-01, 1.08340242e-01, 1.07718806e-01,\n",
       "       1.07094534e-01, 1.06467514e-01, 1.05837839e-01, 1.05205599e-01,\n",
       "       1.04570885e-01, 1.03933787e-01, 1.03294396e-01, 1.02652802e-01,\n",
       "       1.02009095e-01, 1.01363365e-01, 1.00715702e-01, 1.00066196e-01,\n",
       "       9.94149353e-02, 9.87620095e-02, 9.81075073e-02, 9.74515169e-02,\n",
       "       9.67941267e-02, 9.61354243e-02, 9.54754971e-02, 9.48144322e-02,\n",
       "       9.41523162e-02, 9.34892353e-02, 9.28252753e-02, 9.21605216e-02,\n",
       "       9.14950590e-02, 9.08289719e-02, 9.01623442e-02, 8.94952592e-02,\n",
       "       8.88277999e-02, 8.81600484e-02, 8.74920866e-02, 8.68239955e-02,\n",
       "       8.61558557e-02, 8.54877472e-02, 8.48197493e-02, 8.41519406e-02,\n",
       "       8.34843992e-02, 8.28172025e-02, 8.21504271e-02, 8.14841490e-02,\n",
       "       8.08184436e-02, 8.01533854e-02, 7.94890483e-02, 7.88255054e-02,\n",
       "       7.81628290e-02, 7.75010908e-02, 7.68403616e-02, 7.61807115e-02,\n",
       "       7.55222096e-02, 7.48649245e-02, 7.42089238e-02, 7.35542744e-02,\n",
       "       7.29010421e-02, 7.22492923e-02, 7.15990892e-02, 7.09504962e-02,\n",
       "       7.03035761e-02, 6.96583904e-02, 6.90150001e-02, 6.83734651e-02,\n",
       "       6.77338446e-02, 6.70961967e-02, 6.64605787e-02, 6.58270471e-02,\n",
       "       6.51956573e-02, 6.45664639e-02, 6.39395206e-02, 6.33148800e-02,\n",
       "       6.26925941e-02, 6.20727136e-02, 6.14552887e-02, 6.08403681e-02,\n",
       "       6.02280002e-02, 5.96182320e-02, 5.90111096e-02, 5.84066785e-02,\n",
       "       5.78049829e-02, 5.72060661e-02, 5.66099707e-02, 5.60167381e-02,\n",
       "       5.54264089e-02, 5.48390226e-02, 5.42546180e-02, 5.36732327e-02,\n",
       "       5.30949036e-02, 5.25196664e-02, 5.19475561e-02, 5.13786066e-02,\n",
       "       5.08128510e-02, 5.02503213e-02, 4.96910487e-02, 4.91350635e-02,\n",
       "       4.85823949e-02, 4.80330714e-02, 4.74871204e-02, 4.69445685e-02,\n",
       "       4.64054413e-02, 4.58697637e-02, 4.53375594e-02, 4.48088515e-02,\n",
       "       4.42836619e-02, 4.37620118e-02, 4.32439216e-02, 4.27294107e-02,\n",
       "       4.22184977e-02, 4.17112002e-02, 4.12075350e-02, 4.07075182e-02,\n",
       "       4.02111650e-02, 3.97184895e-02, 3.92295053e-02, 3.87442251e-02,\n",
       "       3.82626607e-02, 3.77848230e-02, 3.73107224e-02, 3.68403683e-02,\n",
       "       3.63737693e-02, 3.59109333e-02, 3.54518673e-02, 3.49965778e-02,\n",
       "       3.45450703e-02, 3.40973496e-02, 3.36534198e-02, 3.32132844e-02,\n",
       "       3.27769459e-02, 3.23444063e-02, 3.19156668e-02, 3.14907280e-02,\n",
       "       3.10695897e-02, 3.06522511e-02, 3.02387108e-02, 2.98289666e-02,\n",
       "       2.94230157e-02, 2.90208546e-02, 2.86224794e-02, 2.82278854e-02,\n",
       "       2.78370673e-02, 2.74500191e-02, 2.70667345e-02, 2.66872064e-02,\n",
       "       2.63114272e-02, 2.59393886e-02, 2.55710820e-02, 2.52064981e-02,\n",
       "       2.48456271e-02, 2.44884586e-02, 2.41349819e-02, 2.37851856e-02,\n",
       "       2.34390578e-02, 2.30965863e-02, 2.27577583e-02, 2.24225606e-02,\n",
       "       2.20909794e-02, 2.17630006e-02, 2.14386096e-02, 2.11177915e-02,\n",
       "       2.08005309e-02, 2.04868119e-02, 2.01766184e-02, 1.98699338e-02,\n",
       "       1.95667412e-02, 1.92670231e-02, 1.89707621e-02, 1.86779399e-02,\n",
       "       1.83885384e-02, 1.81025388e-02, 1.78199222e-02, 1.75406692e-02,\n",
       "       1.72647603e-02, 1.69921756e-02, 1.67228949e-02, 1.64568979e-02,\n",
       "       1.61941638e-02, 1.59346716e-02, 1.56784003e-02, 1.54253285e-02,\n",
       "       1.51754344e-02, 1.49286962e-02, 1.46850919e-02, 1.44445992e-02,\n",
       "       1.42071958e-02, 1.39728589e-02, 1.37415657e-02, 1.35132934e-02,\n",
       "       1.32880187e-02, 1.30657184e-02, 1.28463692e-02, 1.26299474e-02,\n",
       "       1.24164295e-02, 1.22057916e-02, 1.19980098e-02, 1.17930601e-02,\n",
       "       1.15909185e-02, 1.13915608e-02, 1.11949628e-02, 1.10011000e-02,\n",
       "       1.08099482e-02, 1.06214828e-02, 1.04356794e-02, 1.02525134e-02,\n",
       "       1.00719602e-02, 9.89399521e-03, 9.71859380e-03, 9.54573130e-03,\n",
       "       9.37538302e-03, 9.20752428e-03, 9.04213040e-03, 8.87917668e-03,\n",
       "       8.71863847e-03, 8.56049111e-03, 8.40470997e-03, 8.25127043e-03,\n",
       "       8.10014794e-03, 7.95131794e-03, 7.80475595e-03, 7.66043753e-03,\n",
       "       7.51833828e-03, 7.37843387e-03, 7.24070002e-03, 7.10511252e-03,\n",
       "       6.97164726e-03, 6.84028015e-03, 6.71098724e-03, 6.58374461e-03,\n",
       "       6.45852847e-03, 6.33531510e-03, 6.21408088e-03, 6.09480230e-03,\n",
       "       5.97745593e-03, 5.86201847e-03, 5.74846672e-03, 5.63677760e-03,\n",
       "       5.52692814e-03, 5.41889549e-03, 5.31265693e-03, 5.20818986e-03,\n",
       "       5.10547182e-03, 5.00448047e-03, 4.90519360e-03, 4.80758916e-03,\n",
       "       4.71164521e-03, 4.61733998e-03, 4.52465182e-03, 4.43355925e-03,\n",
       "       4.34404092e-03, 4.25607564e-03, 4.16964238e-03, 4.08472024e-03,\n",
       "       4.00128850e-03, 3.91932659e-03, 3.83881410e-03, 3.75973079e-03,\n",
       "       3.68205656e-03, 3.60577149e-03, 3.53085584e-03, 3.45729001e-03,\n",
       "       3.38505457e-03, 3.31413029e-03, 3.24449808e-03, 3.17613902e-03,\n",
       "       3.10903439e-03, 3.04316560e-03, 2.97851429e-03, 2.91506221e-03,\n",
       "       2.85279134e-03, 2.79168380e-03, 2.73172190e-03, 2.67288813e-03,\n",
       "       2.61516514e-03, 2.55853579e-03, 2.50298307e-03, 2.44849018e-03,\n",
       "       2.39504050e-03, 2.34261757e-03, 2.29120512e-03, 2.24078704e-03,\n",
       "       2.19134742e-03, 2.14287051e-03, 2.09534075e-03, 2.04874275e-03,\n",
       "       2.00306130e-03, 1.95828136e-03, 1.91438807e-03, 1.87136675e-03,\n",
       "       1.82920288e-03, 1.78788213e-03, 1.74739034e-03, 1.70771352e-03,\n",
       "       1.66883786e-03, 1.63074970e-03, 1.59343559e-03, 1.55688221e-03,\n",
       "       1.52107644e-03, 1.48600531e-03, 1.45165604e-03, 1.41801598e-03,\n",
       "       1.38507269e-03, 1.35281387e-03, 1.32122739e-03, 1.29030128e-03,\n",
       "       1.26002374e-03, 1.23038312e-03, 1.20136795e-03, 1.17296691e-03,\n",
       "       1.14516882e-03, 1.11796269e-03, 1.09133767e-03, 1.06528306e-03,\n",
       "       1.03978832e-03, 1.01484307e-03, 9.90437061e-04, 9.66560216e-04,\n",
       "       9.43202595e-04, 9.20354412e-04, 8.98006022e-04, 8.76147930e-04,\n",
       "       8.54770783e-04, 8.33865370e-04, 8.13422622e-04, 7.93433612e-04,\n",
       "       7.73889549e-04, 7.54781781e-04, 7.36101792e-04, 7.17841199e-04,\n",
       "       6.99991756e-04, 6.82545346e-04, 6.65493984e-04, 6.48829813e-04,\n",
       "       6.32545106e-04, 6.16632260e-04, 6.01083800e-04, 5.85892373e-04,\n",
       "       5.71050748e-04, 5.56551817e-04, 5.42388589e-04, 5.28554193e-04,\n",
       "       5.15041875e-04, 5.01844996e-04, 4.88957031e-04, 4.76371567e-04,\n",
       "       4.64082303e-04, 4.52083048e-04, 4.40367721e-04, 4.28930345e-04,\n",
       "       4.17765051e-04, 4.06866074e-04, 3.96227752e-04, 3.85844525e-04,\n",
       "       3.75710933e-04, 3.65821616e-04, 3.56171310e-04, 3.46754849e-04,\n",
       "       3.37567162e-04, 3.28603270e-04, 3.19858288e-04, 3.11327422e-04,\n",
       "       3.03005968e-04, 2.94889309e-04, 2.86972918e-04, 2.79252351e-04,\n",
       "       2.71723252e-04, 2.64381345e-04, 2.57222438e-04, 2.50242421e-04,\n",
       "       2.43437262e-04, 2.36803009e-04, 2.30335786e-04, 2.24031794e-04,\n",
       "       2.17887310e-04, 2.11898682e-04, 2.06062334e-04, 2.00374759e-04,\n",
       "       1.94832521e-04, 1.89432254e-04, 1.84170660e-04, 1.79044506e-04,\n",
       "       1.74050628e-04, 1.69185924e-04, 1.64447359e-04, 1.59831957e-04,\n",
       "       1.55336805e-04, 1.50959052e-04, 1.46695906e-04, 1.42544631e-04,\n",
       "       1.38502552e-04, 1.34567048e-04, 1.30735555e-04, 1.27005563e-04,\n",
       "       1.23374615e-04, 1.19840309e-04, 1.16400291e-04, 1.13052261e-04,\n",
       "       1.09793967e-04, 1.06623208e-04, 1.03537828e-04, 1.00535720e-04,\n",
       "       9.76148241e-05, 9.47731246e-05, 9.20086506e-05, 8.93194754e-05])"
      ]
     },
     "execution_count": 16,
     "metadata": {},
     "output_type": "execute_result"
    }
   ],
   "source": [
    "# Calculate the normal Density function \n",
    "from scipy.stats import norm\n",
    "x = np.linspace(min(s), max(s), 1000)\n",
    "density = norm.pdf(x, loc = mu, scale = sigma)\n",
    "density"
   ]
  },
  {
   "cell_type": "markdown",
   "metadata": {},
   "source": [
    "## Plot the histogram and density function"
   ]
  },
  {
   "cell_type": "code",
   "execution_count": 20,
   "metadata": {},
   "outputs": [
    {
     "data": {
      "text/plain": [
       "[<matplotlib.lines.Line2D at 0x1ec665987c0>]"
      ]
     },
     "execution_count": 20,
     "metadata": {},
     "output_type": "execute_result"
    },
    {
     "data": {
      "image/png": "[encoded data removed]",
      "text/plain": [
       "<Figure size 720x432 with 1 Axes>"
      ]
     },
     "metadata": {
      "needs_background": "light"
     },
     "output_type": "display_data"
    }
   ],
   "source": [
    "# Plot histogram along with the density function\n",
    "plt.figure(figsize = (10,6))\n",
    "plt.hist(s, bins = 20, density = True)\n",
    "plt.plot(x, density, 'r-', lw = 2, label = 'Normal Density Function')"
   ]
  },
  {
   "cell_type": "markdown",
   "metadata": {},
   "source": [
    "## Visualize the distribution using seaborn and plot the KDE"
   ]
  },
  {
   "cell_type": "code",
   "execution_count": 21,
   "metadata": {},
   "outputs": [
    {
     "data": {
      "text/plain": [
       "<AxesSubplot:ylabel='Count'>"
      ]
     },
     "execution_count": 21,
     "metadata": {},
     "output_type": "execute_result"
    },
    {
     "data": {
      "image/png": "[encoded data removed]",
      "text/plain": [
       "<Figure size 432x288 with 1 Axes>"
      ]
     },
     "metadata": {
      "needs_background": "light"
     },
     "output_type": "display_data"
    }
   ],
   "source": [
    "# Use seaborn to plot the histogram with KDE\n",
    "sns.histplot(s, bins = 20, kde = True)"
   ]
  },
  {
   "cell_type": "markdown",
   "metadata": {},
   "source": [
    "## Summary\n",
    "\n",
    "In this lab, you learned how to generate random normal distributions in Python using Numpy. You also calculated the density for normal distributions using the general formula as well as seaborn's KDE. Next, you'll move on to learn about the standard normal distribution and how normal distributions are used to answer analytical questions."
   ]
  }
 ],
 "metadata": {
  "kernelspec": {
   "display_name": "Python 3",
   "language": "python",
   "name": "python3"
  },
  "language_info": {
   "codemirror_mode": {
    "name": "ipython",
    "version": 3
   },
   "file_extension": ".py",
   "mimetype": "text/x-python",
   "name": "python",
   "nbconvert_exporter": "python",
   "pygments_lexer": "ipython3",
   "version": "3.8.5"
  },
  "toc": {
   "base_numbering": 1,
   "nav_menu": {},
   "number_sections": true,
   "sideBar": true,
   "skip_h1_title": false,
   "title_cell": "Table of Contents",
   "title_sidebar": "Contents",
   "toc_cell": false,
   "toc_position": {},
   "toc_section_display": true,
   "toc_window_display": false
  }
 },
 "nbformat": 4,
 "nbformat_minor": 2
}
